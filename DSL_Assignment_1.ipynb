{
  "nbformat": 4,
  "nbformat_minor": 0,
  "metadata": {
    "colab": {
      "name": " DSL Assignment 1.ipynb",
      "provenance": [],
      "include_colab_link": true
    },
    "kernelspec": {
      "name": "python3",
      "display_name": "Python 3"
    }
  },
  "cells": [
    {
      "cell_type": "markdown",
      "metadata": {
        "id": "view-in-github",
        "colab_type": "text"
      },
      "source": [
        "<a href=\"https://colab.research.google.com/github/patilvidya/Diabetes-Ddetection/blob/main/DSL_Assignment_1.ipynb\" target=\"_parent\"><img src=\"https://colab.research.google.com/assets/colab-badge.svg\" alt=\"Open In Colab\"/></a>"
      ]
    },
    {
      "cell_type": "markdown",
      "metadata": {
        "id": "eC6017zvO8r0"
      },
      "source": [
        "Assignment 1: Array Operations"
      ]
    },
    {
      "cell_type": "code",
      "metadata": {
        "id": "s1NFl6YZF7-L",
        "colab": {
          "base_uri": "https://localhost:8080/"
        },
        "outputId": "e87324be-1fe3-4c7c-e6d0-bca354adf4f9"
      },
      "source": [
        "# Array operations --\n",
        "#imports - \n",
        "import array as arr\n",
        "\n",
        "#functions\n",
        "def highest_in_array(array):\n",
        "    maximum = 0\n",
        "    for i in array:\n",
        "        if i < 0:\n",
        "            continue\n",
        "        if i > maximum:\n",
        "            maximum = i\n",
        "    return maximum\n",
        "\n",
        "def lowsest_in_array(array):\n",
        "    i = 0\n",
        "    minimum = array[i]\n",
        "    while array[i] == -1:\n",
        "        i += 1\n",
        "        minimum = array[i]\n",
        "    for i in array:\n",
        "        if i == -1:\n",
        "            continue\n",
        "        if minimum > i:\n",
        "            minimum = i\n",
        "    return minimum\n",
        "\n",
        "def highest_marks_freq(array):\n",
        "    highest, count = highest_in_array(array), 0\n",
        "    for i in array:\n",
        "        if i == highest:\n",
        "            count += 1\n",
        "    return count\n",
        "\n",
        "\n",
        "\n",
        "#main\n",
        "students = arr.array(\"d\", {})\n",
        "\n",
        "n = int(input(\"Enter the number of students: \"))\n",
        "print(\"Enter marks for students and enter '-1' if absent.\")\n",
        "for i in range(n):\n",
        "    print(f\"Enter marks for index {i} =\", end=\" \")\n",
        "    inn = float(input())\n",
        "    students.append(inn)\n",
        "\n",
        "summation, avg, absent = 0, 0, 0\n",
        "for i in students:\n",
        "    if i == -1:\n",
        "        absent += 1\n",
        "        continue\n",
        "    else:\n",
        "        summation += i      \n",
        "avg += summation/(n-absent)\n",
        "\n",
        "print(f\"\\nThe average marks of all students is {avg}. \\n\")\n",
        "\n",
        "#highest and lowsest\n",
        "high_var = highest_in_array(students)\n",
        "print(f\"The largest number is {high_var} \\n\")\n",
        "\n",
        "low_var = lowsest_in_array(students)\n",
        "print(f\"The smallest number is {low_var} \\n\")\n",
        "\n",
        "freq = highest_marks_freq(students)\n",
        "print(f\"The frequency for {high_var} is {freq} \\n\")\n",
        "\n",
        "print(f\"The absent students is {absent} \\n\")\n"
      ],
      "execution_count": 1,
      "outputs": [
        {
          "output_type": "stream",
          "text": [
            "Enter marks for students and enter '-1' if absent.\n",
            "Enter marks for index 0 = Enter the number of students: 3\n",
            "Enter marks for index 1 = -1\n",
            "Enter marks for index 2 = 3\n",
            "\n",
            "The average marks of all students is 3.0. \n",
            "\n",
            "The largest number is 3.0 \n",
            "\n",
            "The smallest number is 3.0 \n",
            "\n",
            "The frequency for 3.0 is 2 \n",
            "\n",
            "The absent students is 1 \n",
            "\n"
          ],
          "name": "stdout"
        }
      ]
    }
  ]
}